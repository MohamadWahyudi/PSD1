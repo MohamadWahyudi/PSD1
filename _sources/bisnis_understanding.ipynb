{
  "nbformat": 4,
  "nbformat_minor": 0,
  "metadata": {
    "colab": {
      "provenance": []
    },
    "kernelspec": {
      "name": "python3",
      "display_name": "Python 3"
    },
    "language_info": {
      "name": "python"
    }
  },
  "cells": [
    {
      "cell_type": "markdown",
      "source": [
        "Dataset IRIS yang saya gunakan yakni \"Ukuran Fisik Bunga\"\n",
        "\n",
        "https://www.kaggle.com/datasets/arshid/iris-flower-dataset\n",
        "\n",
        "tugas:\n",
        "1. Membuat Bussines Understanding dan Data Understanding dari dataset yang digunakan\n",
        "2. Membuat database iris di MySQL dan PosgreSQL dan ditarik pakai power BI\n",
        "3. Data sudah dideskripsikan sesuai dengan tipe data\n",
        "4. Data sudah dieksplorasi data\n",
        "    - min max dari setiap kolom\n",
        "    - rata rata dari setiap kolom\n",
        "    - jumlah setiap kelas ditampilkan dalam grafik batang"
      ],
      "metadata": {
        "id": "Sci4mscfpiPj"
      }
    },
    {
      "cell_type": "markdown",
      "source": [
        "## Bisnis Understanding\n",
        "Klasifikasi spesies bunga merupakan salah satu contoh nyata penerapan data science dalam bidang biologi dan pertanian. Data bunga Iris (Iris setosa, Iris versicolor, dan Iris virginica) merupakan dataset yang terkenal dan sering digunakan sebagai studi kasus awal dalam machine learning. Dengan adanya data ukuran fisik bunga (panjang dan lebar sepal serta petal), kita dapat membangun model prediksi untuk mengklasifikasikan bunga ke dalam spesiesnya.\n",
        "\n",
        "Dalam konteks bisnis, pemahaman ini dapat diaplikasikan di bidang botani, agrikultur, dan riset bioteknologi.\n",
        "\n",
        "### Tujuan Bisnis\n",
        "1. Mengklasifikasikan bunga Iris berdasarkan karakteristik morfologi (sepal dan petal).\n",
        "2. Menganalisis hubungan antar variabel (misalnya apakah panjang petal berpengaruh terhadap spesies).\n",
        "3. Menyediakan data dasar untuk pembuatan model prediksi sehingga bisa dipakai dalam penelitian lebih lanjut atau sistem otomatisasi.\n",
        "\n",
        "### Permasalahan Bisnis\n",
        "Permasalahan Bisnis\n",
        "\n",
        "1. Identifikasi manual spesies bunga membutuhkan tenaga ahli dan memakan waktu.\n",
        "2. Human error: pengukuran atau pengamatan manusia bisa tidak konsisten.\n",
        "\n",
        "### manfaat\n",
        "1. Proses klasifikasi bunga bisa dilakukan secara otomatis, cepat, dan akurat.\n",
        "2. Menjadi alat bantu riset dan pendidikan dalam pengenalan dasar klasifikasi berbasis data.\n"
      ],
      "metadata": {
        "id": "xQcPPMQVpN2G"
      }
    }
  ]
}